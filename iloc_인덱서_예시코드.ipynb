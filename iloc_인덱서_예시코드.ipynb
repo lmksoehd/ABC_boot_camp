{
  "nbformat": 4,
  "nbformat_minor": 0,
  "metadata": {
    "colab": {
      "provenance": [],
      "authorship_tag": "ABX9TyPtFLpI3EHY8tY/rrxSTUMR",
      "include_colab_link": true
    },
    "kernelspec": {
      "name": "python3",
      "display_name": "Python 3"
    },
    "language_info": {
      "name": "python"
    }
  },
  "cells": [
    {
      "cell_type": "markdown",
      "metadata": {
        "id": "view-in-github",
        "colab_type": "text"
      },
      "source": [
        "<a href=\"https://colab.research.google.com/github/lmksoehd/ABC_boot_camp/blob/main/iloc_%EC%9D%B8%EB%8D%B1%EC%84%9C_%EC%98%88%EC%8B%9C%EC%BD%94%EB%93%9C.ipynb\" target=\"_parent\"><img src=\"https://colab.research.google.com/assets/colab-badge.svg\" alt=\"Open In Colab\"/></a>"
      ]
    },
    {
      "cell_type": "code",
      "execution_count": 1,
      "metadata": {
        "colab": {
          "base_uri": "https://localhost:8080/"
        },
        "id": "50rCL3jJ3uuL",
        "outputId": "424e7883-8a72-4145-fd9a-49d1b3ca8632"
      },
      "outputs": [
        {
          "output_type": "stream",
          "name": "stdout",
          "text": [
            "Original Dataframe:\n",
            "   A  B  C\n",
            "0  1  4  7\n",
            "1  2  5  8\n",
            "2  3  6  9\n",
            "\n",
            "First row:\n",
            "A    1\n",
            "B    4\n",
            "C    7\n",
            "Name: 0, dtype: int64\n",
            "\n",
            "First column:\n",
            "0    1\n",
            "1    2\n",
            "2    3\n",
            "Name: A, dtype: int64\n",
            "\n",
            "Subset of DataFrame:\n",
            "   A  B\n",
            "0  1  4\n",
            "1  2  5\n"
          ]
        }
      ],
      "source": [
        "import pandas as pd\n",
        "\n",
        "data = {'A': [1, 2, 3],\n",
        "        'B': [4, 5, 6],\n",
        "        'C': [7, 8, 9]}\n",
        "\n",
        "df = pd.DataFrame(data)\n",
        "\n",
        "print(\"Original Dataframe:\")\n",
        "print(df)\n",
        "\n",
        "# 첫 번째 행의 데이터 선택\n",
        "first_row = df.iloc[0]\n",
        "print(\"\\nFirst row:\")\n",
        "print(first_row)\n",
        "\n",
        "# 첫 번째 열의 데이터 선택\n",
        "first_column = df.iloc[:, 0]\n",
        "print(\"\\nFirst column:\")\n",
        "print(first_column)\n",
        "\n",
        "# 첫 번째 및 두 번째 행, 첫 번째 및 두 번째 열의 데이터 선택\n",
        "subset = df.iloc[:2, :2]\n",
        "print(\"\\nSubset of DataFrame:\")\n",
        "print(subset)"
      ]
    },
    {
      "cell_type": "markdown",
      "source": [
        "위 코드는 다음 데이터를 처리한다\n",
        "\n",
        "*    A  B  C\n",
        "* 0  1  4  7\n",
        "* 1  2  5  8\n",
        "* 2  3  6  9\n"
      ],
      "metadata": {
        "id": "7I9lhrRt4OR8"
      }
    }
  ]
}