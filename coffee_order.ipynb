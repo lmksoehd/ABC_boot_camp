{
 "cells": [
  {
   "cell_type": "code",
   "execution_count": 3,
   "id": "da751f87",
   "metadata": {},
   "outputs": [
    {
     "name": "stdout",
     "output_type": "stream",
     "text": [
      "\n",
      "메뉴\n",
      "1.아메리카노 : 1800원\n",
      "2.카페라떼 : 2700원\n",
      "3.핫초코 : 2300원\n",
      "\n",
      "\n",
      "커피 종류를 선택하세요. 번호입력>>3\n",
      "몇 잔을 드릴까요?>>> 100\n",
      "총 금액은 230000원 입니다. 돈을 투입해 주세요.500000\n",
      "\n",
      "500000원을 받았습니다. 거스름돈은 270000원 입니다.\n",
      "1000원 지폐270장, 500원 동전0개, 100원 동전0개\n",
      "커피 종류를 선택하세요. 번호입력>>100\n",
      "========================================\n",
      "오늘 하루도 수고했어요\n"
     ]
    }
   ],
   "source": [
    "# 무한 루프 프로그램\n",
    "menu = \"\"\"\n",
    "메뉴\n",
    "1.아메리카노 : 1800원\n",
    "2.카페라떼 : 2700원\n",
    "3.핫초코 : 2300원\n",
    "\"\"\"\n",
    "print(menu)\n",
    "print()\n",
    "while True:\n",
    "    order = int(input('커피 종류를 선택하세요. 번호입력>>'))        \n",
    "    if order == 1 :\n",
    "        coffee_price = 1800\n",
    "    elif order == 2:\n",
    "        coffee_price = 2700\n",
    "    elif order == 3:\n",
    "        coffee_price = 2300\n",
    "    elif order == 100 : # 100을 입력하면 프로그램 종료\n",
    "        print('='*40)\n",
    "        print('오늘 하루도 수고했어요')\n",
    "        break\n",
    "    else : \n",
    "        print('메뉴에 없습니다.')\n",
    "        continue\n",
    "\n",
    "\n",
    "    cups = int(input('몇 잔을 드릴까요?>>> '))\n",
    "    total_price = coffee_price * cups\n",
    "    received= int(input('총 금액은 {}원 입니다. 돈을 투입해 주세요.'.format(total_price)))\n",
    "    print()\n",
    "\n",
    "    if received >= total_price :\n",
    "        change = received - total_price\n",
    "        print('{}원을 받았습니다. 거스름돈은 {}원 입니다.'.format(received,change))\n",
    "        # 1000원, 500원, 100원 예) 1900원은 1000원 1장 500원 1개, 100원 4개\n",
    "        # 1000원 지폐 : 3700 // 1000 , 500원 동전 : 잔액(700) // 500\n",
    "\n",
    "        change_1000 = change // 1000\n",
    "        remain_1000 = change % 1000\n",
    "        change_500 = remain_1000 // 500\n",
    "        remain_500 = remain_1000 % 500\n",
    "        change_100 =  remain_500 // 100\n",
    "\n",
    "        print('1000원 지폐{}장, 500원 동전{}개, 100원 동전{}개'.format(change_1000,change_500,change_100))\n",
    "\n",
    "    else :\n",
    "        print('금액이 부족합니다. 주문이 취소 되었습니다.')\n",
    "        continue"
   ]
  }
 ],
 "metadata": {
  "kernelspec": {
   "display_name": "Python 3 (ipykernel)",
   "language": "python",
   "name": "python3"
  },
  "language_info": {
   "codemirror_mode": {
    "name": "ipython",
    "version": 3
   },
   "file_extension": ".py",
   "mimetype": "text/x-python",
   "name": "python",
   "nbconvert_exporter": "python",
   "pygments_lexer": "ipython3",
   "version": "3.9.12"
  }
 },
 "nbformat": 4,
 "nbformat_minor": 5
}
