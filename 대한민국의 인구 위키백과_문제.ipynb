{
 "cells": [
  {
   "cell_type": "markdown",
   "id": "dd7c42ab",
   "metadata": {},
   "source": [
    "# 1.출생 및 사망 통계"
   ]
  },
  {
   "cell_type": "markdown",
   "id": "88dc99c8",
   "metadata": {},
   "source": [
    "> 1.출생 및 사망 통계\n",
    ">>\t- 출생자수가 가장 많은 년도와 출생자수를 구하세요.  \n",
    ">>\t- 사망자수가 가장 많은 년도와 사망자수를 구하세요.  \n",
    ">>\t- 사망자수가 출생자수를 추월한 연도는?  \n",
    "\n",
    "> 컬럼명을 바꾸세요\n",
    ">>\t연도 (년)  >> 연도  \n",
    "\t출생자수(명) >> 출생자수  \n",
    "\t사망자수(명) >> 사망자수    \n",
    "\n",
    "- x축은 연도, y축은 출생자수 가 있는 그래프를 작성하세요  \n",
    "\n",
    "- 1945년~1955년까지 출생자수와 사망자수의 그래프를 작성하고, 저장하세요.  "
   ]
  },
  {
   "cell_type": "code",
   "execution_count": 53,
   "id": "e98a951a",
   "metadata": {
    "scrolled": false
   },
   "outputs": [
    {
     "data": {
      "text/html": [
       "<div>\n",
       "<style scoped>\n",
       "    .dataframe tbody tr th:only-of-type {\n",
       "        vertical-align: middle;\n",
       "    }\n",
       "\n",
       "    .dataframe tbody tr th {\n",
       "        vertical-align: top;\n",
       "    }\n",
       "\n",
       "    .dataframe thead th {\n",
       "        text-align: right;\n",
       "    }\n",
       "</style>\n",
       "<table border=\"1\" class=\"dataframe\">\n",
       "  <thead>\n",
       "    <tr style=\"text-align: right;\">\n",
       "      <th></th>\n",
       "      <th>연도 (년)</th>\n",
       "      <th>추계인구(명)</th>\n",
       "      <th>출생자수(명)</th>\n",
       "      <th>사망자수(명)</th>\n",
       "      <th>자연증가수(명)</th>\n",
       "      <th>조출생률 (1000명당)</th>\n",
       "      <th>조사망률 (1000명당)</th>\n",
       "      <th>자연증가율 (1000명당)</th>\n",
       "      <th>합계출산율</th>\n",
       "    </tr>\n",
       "  </thead>\n",
       "  <tbody>\n",
       "    <tr>\n",
       "      <th>0</th>\n",
       "      <td>1925</td>\n",
       "      <td>12997611</td>\n",
       "      <td>558897</td>\n",
       "      <td>359042</td>\n",
       "      <td>199855</td>\n",
       "      <td>43.0</td>\n",
       "      <td>27.6</td>\n",
       "      <td>15.4</td>\n",
       "      <td>6.59</td>\n",
       "    </tr>\n",
       "    <tr>\n",
       "      <th>1</th>\n",
       "      <td>1926</td>\n",
       "      <td>13052741</td>\n",
       "      <td>511667</td>\n",
       "      <td>337948</td>\n",
       "      <td>173719</td>\n",
       "      <td>39.2</td>\n",
       "      <td>25.9</td>\n",
       "      <td>13.3</td>\n",
       "      <td>NaN</td>\n",
       "    </tr>\n",
       "    <tr>\n",
       "      <th>2</th>\n",
       "      <td>1927</td>\n",
       "      <td>13037169</td>\n",
       "      <td>534524</td>\n",
       "      <td>353818</td>\n",
       "      <td>180706</td>\n",
       "      <td>41.0</td>\n",
       "      <td>27.1</td>\n",
       "      <td>13.9</td>\n",
       "      <td>NaN</td>\n",
       "    </tr>\n",
       "    <tr>\n",
       "      <th>3</th>\n",
       "      <td>1928</td>\n",
       "      <td>13105131</td>\n",
       "      <td>566142</td>\n",
       "      <td>357701</td>\n",
       "      <td>208441</td>\n",
       "      <td>43.2</td>\n",
       "      <td>27.3</td>\n",
       "      <td>15.9</td>\n",
       "      <td>NaN</td>\n",
       "    </tr>\n",
       "    <tr>\n",
       "      <th>4</th>\n",
       "      <td>1929</td>\n",
       "      <td>13124279</td>\n",
       "      <td>566969</td>\n",
       "      <td>414366</td>\n",
       "      <td>152603</td>\n",
       "      <td>43.2</td>\n",
       "      <td>31.6</td>\n",
       "      <td>11.6</td>\n",
       "      <td>NaN</td>\n",
       "    </tr>\n",
       "  </tbody>\n",
       "</table>\n",
       "</div>"
      ],
      "text/plain": [
       "   연도 (년)   추계인구(명)  출생자수(명)  사망자수(명)  자연증가수(명)  조출생률 (1000명당)  조사망률 (1000명당)  \\\n",
       "0    1925  12997611   558897   359042    199855           43.0           27.6   \n",
       "1    1926  13052741   511667   337948    173719           39.2           25.9   \n",
       "2    1927  13037169   534524   353818    180706           41.0           27.1   \n",
       "3    1928  13105131   566142   357701    208441           43.2           27.3   \n",
       "4    1929  13124279   566969   414366    152603           43.2           31.6   \n",
       "\n",
       "   자연증가율 (1000명당)  합계출산율  \n",
       "0            15.4   6.59  \n",
       "1            13.3    NaN  \n",
       "2            13.9    NaN  \n",
       "3            15.9    NaN  \n",
       "4            11.6    NaN  "
      ]
     },
     "execution_count": 53,
     "metadata": {},
     "output_type": "execute_result"
    }
   ],
   "source": [
    "import pandas as pd\n",
    "url = 'https://ko.wikipedia.org/wiki/%EB%8C%80%ED%95%9C%EB%AF%BC%EA%B5%AD%EC%9D%98_%EC%9D%B8%EA%B5%AC'\n",
    "df = pd.read_html(url)\n",
    "df = df[4]\n",
    "df.head()"
   ]
  },
  {
   "cell_type": "code",
   "execution_count": 54,
   "id": "c5edacb9",
   "metadata": {},
   "outputs": [
    {
     "data": {
      "text/html": [
       "<div>\n",
       "<style scoped>\n",
       "    .dataframe tbody tr th:only-of-type {\n",
       "        vertical-align: middle;\n",
       "    }\n",
       "\n",
       "    .dataframe tbody tr th {\n",
       "        vertical-align: top;\n",
       "    }\n",
       "\n",
       "    .dataframe thead th {\n",
       "        text-align: right;\n",
       "    }\n",
       "</style>\n",
       "<table border=\"1\" class=\"dataframe\">\n",
       "  <thead>\n",
       "    <tr style=\"text-align: right;\">\n",
       "      <th></th>\n",
       "      <th>연도 (년)</th>\n",
       "      <th>출생자수(명)</th>\n",
       "    </tr>\n",
       "  </thead>\n",
       "  <tbody>\n",
       "    <tr>\n",
       "      <th>35</th>\n",
       "      <td>1960</td>\n",
       "      <td>1080535</td>\n",
       "    </tr>\n",
       "  </tbody>\n",
       "</table>\n",
       "</div>"
      ],
      "text/plain": [
       "    연도 (년)  출생자수(명)\n",
       "35    1960  1080535"
      ]
     },
     "execution_count": 54,
     "metadata": {},
     "output_type": "execute_result"
    }
   ],
   "source": [
    "df.nlargest(1,'출생자수(명)')[['연도 (년)','출생자수(명)']]"
   ]
  },
  {
   "cell_type": "code",
   "execution_count": 5,
   "id": "6cb05aa6",
   "metadata": {},
   "outputs": [
    {
     "data": {
      "text/html": [
       "<div>\n",
       "<style scoped>\n",
       "    .dataframe tbody tr th:only-of-type {\n",
       "        vertical-align: middle;\n",
       "    }\n",
       "\n",
       "    .dataframe tbody tr th {\n",
       "        vertical-align: top;\n",
       "    }\n",
       "\n",
       "    .dataframe thead th {\n",
       "        text-align: right;\n",
       "    }\n",
       "</style>\n",
       "<table border=\"1\" class=\"dataframe\">\n",
       "  <thead>\n",
       "    <tr style=\"text-align: right;\">\n",
       "      <th></th>\n",
       "      <th>연도 (년)</th>\n",
       "      <th>추계인구(명)</th>\n",
       "      <th>출생자수(명)</th>\n",
       "      <th>사망자수(명)</th>\n",
       "      <th>자연증가수(명)</th>\n",
       "      <th>조출생률 (1000명당)</th>\n",
       "      <th>조사망률 (1000명당)</th>\n",
       "      <th>자연증가율 (1000명당)</th>\n",
       "      <th>합계출산율</th>\n",
       "    </tr>\n",
       "  </thead>\n",
       "  <tbody>\n",
       "    <tr>\n",
       "      <th>25</th>\n",
       "      <td>1950</td>\n",
       "      <td>19211386</td>\n",
       "      <td>633976</td>\n",
       "      <td>597474</td>\n",
       "      <td>36502</td>\n",
       "      <td>33.0</td>\n",
       "      <td>31.1</td>\n",
       "      <td>1.9</td>\n",
       "      <td>5.05</td>\n",
       "    </tr>\n",
       "  </tbody>\n",
       "</table>\n",
       "</div>"
      ],
      "text/plain": [
       "    연도 (년)   추계인구(명)  출생자수(명)  사망자수(명)  자연증가수(명)  조출생률 (1000명당)  \\\n",
       "25    1950  19211386   633976   597474     36502           33.0   \n",
       "\n",
       "    조사망률 (1000명당)  자연증가율 (1000명당)  합계출산율  \n",
       "25           31.1             1.9   5.05  "
      ]
     },
     "execution_count": 5,
     "metadata": {},
     "output_type": "execute_result"
    }
   ],
   "source": [
    "df.nlargest(1,'사망자수(명)')"
   ]
  },
  {
   "cell_type": "code",
   "execution_count": 6,
   "id": "d3a60bef",
   "metadata": {},
   "outputs": [],
   "source": [
    "df.rename(columns = {'연도 (년)':'연도','출생자수(명)':'출생자수','사망자수(명)':'사망자수'}, inplace=True)"
   ]
  },
  {
   "cell_type": "code",
   "execution_count": 11,
   "id": "8381367a",
   "metadata": {},
   "outputs": [
    {
     "data": {
      "text/plain": [
       "<AxesSubplot:xlabel='연도'>"
      ]
     },
     "execution_count": 11,
     "metadata": {},
     "output_type": "execute_result"
    },
    {
     "data": {
      "image/png": "[encoded data removed]",
      "text/plain": [
       "<Figure size 432x288 with 1 Axes>"
      ]
     },
     "metadata": {
      "needs_background": "light"
     },
     "output_type": "display_data"
    }
   ],
   "source": [
    "import matplotlib.pyplot as plt\n",
    "plt.rc('font', family='Malgun Gothic')\n",
    "\n",
    "df[['연도','출생자수','사망자수']].set_index('연도').plot()"
   ]
  },
  {
   "cell_type": "code",
   "execution_count": 15,
   "id": "1534faf3",
   "metadata": {},
   "outputs": [
    {
     "data": {
      "text/plain": [
       "<AxesSubplot:xlabel='연도'>"
      ]
     },
     "execution_count": 15,
     "metadata": {},
     "output_type": "execute_result"
    },
    {
     "data": {
      "image/png": "[encoded data removed]",
      "text/plain": [
       "<Figure size 432x288 with 1 Axes>"
      ]
     },
     "metadata": {
      "needs_background": "light"
     },
     "output_type": "display_data"
    }
   ],
   "source": [
    "df[['연도','출생자수','사망자수']].set_index('연도').loc[2015:].plot()"
   ]
  },
  {
   "cell_type": "code",
   "execution_count": 18,
   "id": "44b08d14",
   "metadata": {},
   "outputs": [
    {
     "data": {
      "text/html": [
       "<div>\n",
       "<style scoped>\n",
       "    .dataframe tbody tr th:only-of-type {\n",
       "        vertical-align: middle;\n",
       "    }\n",
       "\n",
       "    .dataframe tbody tr th {\n",
       "        vertical-align: top;\n",
       "    }\n",
       "\n",
       "    .dataframe thead th {\n",
       "        text-align: right;\n",
       "    }\n",
       "</style>\n",
       "<table border=\"1\" class=\"dataframe\">\n",
       "  <thead>\n",
       "    <tr style=\"text-align: right;\">\n",
       "      <th></th>\n",
       "      <th>출생자수</th>\n",
       "      <th>사망자수</th>\n",
       "    </tr>\n",
       "    <tr>\n",
       "      <th>연도</th>\n",
       "      <th></th>\n",
       "      <th></th>\n",
       "    </tr>\n",
       "  </thead>\n",
       "  <tbody>\n",
       "    <tr>\n",
       "      <th>1925</th>\n",
       "      <td>558897</td>\n",
       "      <td>359042</td>\n",
       "    </tr>\n",
       "    <tr>\n",
       "      <th>1926</th>\n",
       "      <td>511667</td>\n",
       "      <td>337948</td>\n",
       "    </tr>\n",
       "    <tr>\n",
       "      <th>1927</th>\n",
       "      <td>534524</td>\n",
       "      <td>353818</td>\n",
       "    </tr>\n",
       "    <tr>\n",
       "      <th>1928</th>\n",
       "      <td>566142</td>\n",
       "      <td>357701</td>\n",
       "    </tr>\n",
       "    <tr>\n",
       "      <th>1929</th>\n",
       "      <td>566969</td>\n",
       "      <td>414366</td>\n",
       "    </tr>\n",
       "    <tr>\n",
       "      <th>...</th>\n",
       "      <td>...</td>\n",
       "      <td>...</td>\n",
       "    </tr>\n",
       "    <tr>\n",
       "      <th>2017</th>\n",
       "      <td>357771</td>\n",
       "      <td>285534</td>\n",
       "    </tr>\n",
       "    <tr>\n",
       "      <th>2018</th>\n",
       "      <td>326822</td>\n",
       "      <td>298820</td>\n",
       "    </tr>\n",
       "    <tr>\n",
       "      <th>2019</th>\n",
       "      <td>303054</td>\n",
       "      <td>295132</td>\n",
       "    </tr>\n",
       "    <tr>\n",
       "      <th>2020</th>\n",
       "      <td>272337</td>\n",
       "      <td>304948</td>\n",
       "    </tr>\n",
       "    <tr>\n",
       "      <th>2021</th>\n",
       "      <td>260494</td>\n",
       "      <td>317773</td>\n",
       "    </tr>\n",
       "  </tbody>\n",
       "</table>\n",
       "<p>97 rows × 2 columns</p>\n",
       "</div>"
      ],
      "text/plain": [
       "        출생자수    사망자수\n",
       "연도                  \n",
       "1925  558897  359042\n",
       "1926  511667  337948\n",
       "1927  534524  353818\n",
       "1928  566142  357701\n",
       "1929  566969  414366\n",
       "...      ...     ...\n",
       "2017  357771  285534\n",
       "2018  326822  298820\n",
       "2019  303054  295132\n",
       "2020  272337  304948\n",
       "2021  260494  317773\n",
       "\n",
       "[97 rows x 2 columns]"
      ]
     },
     "execution_count": 18,
     "metadata": {},
     "output_type": "execute_result"
    }
   ],
   "source": [
    "dfnew = df[['연도','출생자수','사망자수']].set_index('연도')\n",
    "dfnew"
   ]
  },
  {
   "cell_type": "code",
   "execution_count": 20,
   "id": "3ca51e2b",
   "metadata": {},
   "outputs": [
    {
     "data": {
      "text/html": [
       "<div>\n",
       "<style scoped>\n",
       "    .dataframe tbody tr th:only-of-type {\n",
       "        vertical-align: middle;\n",
       "    }\n",
       "\n",
       "    .dataframe tbody tr th {\n",
       "        vertical-align: top;\n",
       "    }\n",
       "\n",
       "    .dataframe thead th {\n",
       "        text-align: right;\n",
       "    }\n",
       "</style>\n",
       "<table border=\"1\" class=\"dataframe\">\n",
       "  <thead>\n",
       "    <tr style=\"text-align: right;\">\n",
       "      <th></th>\n",
       "      <th>출생자수</th>\n",
       "      <th>사망자수</th>\n",
       "    </tr>\n",
       "    <tr>\n",
       "      <th>연도</th>\n",
       "      <th></th>\n",
       "      <th></th>\n",
       "    </tr>\n",
       "  </thead>\n",
       "  <tbody>\n",
       "    <tr>\n",
       "      <th>2020</th>\n",
       "      <td>272337</td>\n",
       "      <td>304948</td>\n",
       "    </tr>\n",
       "    <tr>\n",
       "      <th>2021</th>\n",
       "      <td>260494</td>\n",
       "      <td>317773</td>\n",
       "    </tr>\n",
       "  </tbody>\n",
       "</table>\n",
       "</div>"
      ],
      "text/plain": [
       "        출생자수    사망자수\n",
       "연도                  \n",
       "2020  272337  304948\n",
       "2021  260494  317773"
      ]
     },
     "execution_count": 20,
     "metadata": {},
     "output_type": "execute_result"
    }
   ],
   "source": [
    "dfnew[dfnew['출생자수']  < dfnew['사망자수']]"
   ]
  },
  {
   "cell_type": "code",
   "execution_count": 21,
   "id": "c3d4b12b",
   "metadata": {},
   "outputs": [
    {
     "data": {
      "text/html": [
       "<div>\n",
       "<style scoped>\n",
       "    .dataframe tbody tr th:only-of-type {\n",
       "        vertical-align: middle;\n",
       "    }\n",
       "\n",
       "    .dataframe tbody tr th {\n",
       "        vertical-align: top;\n",
       "    }\n",
       "\n",
       "    .dataframe thead th {\n",
       "        text-align: right;\n",
       "    }\n",
       "</style>\n",
       "<table border=\"1\" class=\"dataframe\">\n",
       "  <thead>\n",
       "    <tr style=\"text-align: right;\">\n",
       "      <th></th>\n",
       "      <th>출생자수</th>\n",
       "      <th>사망자수</th>\n",
       "    </tr>\n",
       "    <tr>\n",
       "      <th>연도</th>\n",
       "      <th></th>\n",
       "      <th></th>\n",
       "    </tr>\n",
       "  </thead>\n",
       "  <tbody>\n",
       "    <tr>\n",
       "      <th>1925</th>\n",
       "      <td>558897</td>\n",
       "      <td>359042</td>\n",
       "    </tr>\n",
       "    <tr>\n",
       "      <th>1926</th>\n",
       "      <td>511667</td>\n",
       "      <td>337948</td>\n",
       "    </tr>\n",
       "    <tr>\n",
       "      <th>1927</th>\n",
       "      <td>534524</td>\n",
       "      <td>353818</td>\n",
       "    </tr>\n",
       "    <tr>\n",
       "      <th>1928</th>\n",
       "      <td>566142</td>\n",
       "      <td>357701</td>\n",
       "    </tr>\n",
       "    <tr>\n",
       "      <th>1929</th>\n",
       "      <td>566969</td>\n",
       "      <td>414366</td>\n",
       "    </tr>\n",
       "    <tr>\n",
       "      <th>...</th>\n",
       "      <td>...</td>\n",
       "      <td>...</td>\n",
       "    </tr>\n",
       "    <tr>\n",
       "      <th>2017</th>\n",
       "      <td>357771</td>\n",
       "      <td>285534</td>\n",
       "    </tr>\n",
       "    <tr>\n",
       "      <th>2018</th>\n",
       "      <td>326822</td>\n",
       "      <td>298820</td>\n",
       "    </tr>\n",
       "    <tr>\n",
       "      <th>2019</th>\n",
       "      <td>303054</td>\n",
       "      <td>295132</td>\n",
       "    </tr>\n",
       "    <tr>\n",
       "      <th>2020</th>\n",
       "      <td>272337</td>\n",
       "      <td>304948</td>\n",
       "    </tr>\n",
       "    <tr>\n",
       "      <th>2021</th>\n",
       "      <td>260494</td>\n",
       "      <td>317773</td>\n",
       "    </tr>\n",
       "  </tbody>\n",
       "</table>\n",
       "<p>97 rows × 2 columns</p>\n",
       "</div>"
      ],
      "text/plain": [
       "        출생자수    사망자수\n",
       "연도                  \n",
       "1925  558897  359042\n",
       "1926  511667  337948\n",
       "1927  534524  353818\n",
       "1928  566142  357701\n",
       "1929  566969  414366\n",
       "...      ...     ...\n",
       "2017  357771  285534\n",
       "2018  326822  298820\n",
       "2019  303054  295132\n",
       "2020  272337  304948\n",
       "2021  260494  317773\n",
       "\n",
       "[97 rows x 2 columns]"
      ]
     },
     "execution_count": 21,
     "metadata": {},
     "output_type": "execute_result"
    }
   ],
   "source": [
    "dfnew"
   ]
  },
  {
   "cell_type": "code",
   "execution_count": 22,
   "id": "f89fd28f",
   "metadata": {},
   "outputs": [
    {
     "data": {
      "text/plain": [
       "[<matplotlib.lines.Line2D at 0x1b780ecb340>]"
      ]
     },
     "execution_count": 22,
     "metadata": {},
     "output_type": "execute_result"
    },
    {
     "data": {
      "image/png": "[encoded data removed]",
      "text/plain": [
       "<Figure size 432x288 with 1 Axes>"
      ]
     },
     "metadata": {
      "needs_background": "light"
     },
     "output_type": "display_data"
    }
   ],
   "source": [
    "plt.plot(dfnew.index, dfnew['사망자수'])"
   ]
  },
  {
   "cell_type": "code",
   "execution_count": 26,
   "id": "df7c87cc",
   "metadata": {},
   "outputs": [
    {
     "data": {
      "text/plain": [
       "<AxesSubplot:xlabel='연도'>"
      ]
     },
     "execution_count": 26,
     "metadata": {},
     "output_type": "execute_result"
    },
    {
     "data": {
      "image/png": "[encoded data removed]",
      "text/plain": [
       "<Figure size 432x288 with 1 Axes>"
      ]
     },
     "metadata": {
      "needs_background": "light"
     },
     "output_type": "display_data"
    }
   ],
   "source": [
    "dfnew.loc[1945:1955].plot()"
   ]
  },
  {
   "cell_type": "markdown",
   "id": "9c7ba424",
   "metadata": {},
   "source": [
    "# 2.지역 및 연령별 인구 통계\n",
    "> 이 순서대로 해보세요. >>>  \n",
    "\t>>Unnamed: 0 를 행정구역으로 바꾸세요.  \n",
    "\t주민등록 인구 컬럼을 삭제하고 행정구역 컬럼을 인덱스로 설정하세요.  \n",
    "\t대전광역시를 세로막대그래프로 작성하세요."
   ]
  },
  {
   "cell_type": "code",
   "execution_count": 37,
   "id": "ffe182c7",
   "metadata": {},
   "outputs": [
    {
     "data": {
      "text/html": [
       "<div>\n",
       "<style scoped>\n",
       "    .dataframe tbody tr th:only-of-type {\n",
       "        vertical-align: middle;\n",
       "    }\n",
       "\n",
       "    .dataframe tbody tr th {\n",
       "        vertical-align: top;\n",
       "    }\n",
       "\n",
       "    .dataframe thead th {\n",
       "        text-align: right;\n",
       "    }\n",
       "</style>\n",
       "<table border=\"1\" class=\"dataframe\">\n",
       "  <thead>\n",
       "    <tr style=\"text-align: right;\">\n",
       "      <th></th>\n",
       "      <th>Unnamed: 0</th>\n",
       "      <th>주민등록 인구</th>\n",
       "      <th>0-9세</th>\n",
       "      <th>10-19세</th>\n",
       "      <th>20-29세</th>\n",
       "      <th>30-39세</th>\n",
       "      <th>40-49세</th>\n",
       "      <th>50-59세</th>\n",
       "      <th>60-69세</th>\n",
       "      <th>70-79세</th>\n",
       "      <th>80-89세</th>\n",
       "      <th>90-99세</th>\n",
       "      <th>100세 이상</th>\n",
       "    </tr>\n",
       "  </thead>\n",
       "  <tbody>\n",
       "    <tr>\n",
       "      <th>0</th>\n",
       "      <td>전국</td>\n",
       "      <td>51671569</td>\n",
       "      <td>3843759</td>\n",
       "      <td>4737829</td>\n",
       "      <td>6733054</td>\n",
       "      <td>6764334</td>\n",
       "      <td>8205797</td>\n",
       "      <td>8591085</td>\n",
       "      <td>7039371</td>\n",
       "      <td>3699044</td>\n",
       "      <td>1790233</td>\n",
       "      <td>256245</td>\n",
       "      <td>10818</td>\n",
       "    </tr>\n",
       "    <tr>\n",
       "      <th>1</th>\n",
       "      <td>서울특별시</td>\n",
       "      <td>9558153</td>\n",
       "      <td>599600</td>\n",
       "      <td>764952</td>\n",
       "      <td>1440484</td>\n",
       "      <td>1449434</td>\n",
       "      <td>1497354</td>\n",
       "      <td>1505745</td>\n",
       "      <td>1274190</td>\n",
       "      <td>696452</td>\n",
       "      <td>286511</td>\n",
       "      <td>40954</td>\n",
       "      <td>2477</td>\n",
       "    </tr>\n",
       "    <tr>\n",
       "      <th>2</th>\n",
       "      <td>부산광역시</td>\n",
       "      <td>3361781</td>\n",
       "      <td>224799</td>\n",
       "      <td>267659</td>\n",
       "      <td>422488</td>\n",
       "      <td>409975</td>\n",
       "      <td>505116</td>\n",
       "      <td>556481</td>\n",
       "      <td>544644</td>\n",
       "      <td>294713</td>\n",
       "      <td>120274</td>\n",
       "      <td>14876</td>\n",
       "      <td>756</td>\n",
       "    </tr>\n",
       "    <tr>\n",
       "      <th>3</th>\n",
       "      <td>대구광역시</td>\n",
       "      <td>2395749</td>\n",
       "      <td>171893</td>\n",
       "      <td>220577</td>\n",
       "      <td>315051</td>\n",
       "      <td>287590</td>\n",
       "      <td>376422</td>\n",
       "      <td>419517</td>\n",
       "      <td>337985</td>\n",
       "      <td>175933</td>\n",
       "      <td>80677</td>\n",
       "      <td>9732</td>\n",
       "      <td>372</td>\n",
       "    </tr>\n",
       "    <tr>\n",
       "      <th>4</th>\n",
       "      <td>인천광역시</td>\n",
       "      <td>2937440</td>\n",
       "      <td>221097</td>\n",
       "      <td>271547</td>\n",
       "      <td>394550</td>\n",
       "      <td>400637</td>\n",
       "      <td>480528</td>\n",
       "      <td>508488</td>\n",
       "      <td>388725</td>\n",
       "      <td>178261</td>\n",
       "      <td>80508</td>\n",
       "      <td>12554</td>\n",
       "      <td>545</td>\n",
       "    </tr>\n",
       "  </tbody>\n",
       "</table>\n",
       "</div>"
      ],
      "text/plain": [
       "  Unnamed: 0   주민등록 인구     0-9세   10-19세   20-29세   30-39세   40-49세   50-59세  \\\n",
       "0         전국  51671569  3843759  4737829  6733054  6764334  8205797  8591085   \n",
       "1      서울특별시   9558153   599600   764952  1440484  1449434  1497354  1505745   \n",
       "2      부산광역시   3361781   224799   267659   422488   409975   505116   556481   \n",
       "3      대구광역시   2395749   171893   220577   315051   287590   376422   419517   \n",
       "4      인천광역시   2937440   221097   271547   394550   400637   480528   508488   \n",
       "\n",
       "    60-69세   70-79세   80-89세  90-99세  100세 이상  \n",
       "0  7039371  3699044  1790233  256245    10818  \n",
       "1  1274190   696452   286511   40954     2477  \n",
       "2   544644   294713   120274   14876      756  \n",
       "3   337985   175933    80677    9732      372  \n",
       "4   388725   178261    80508   12554      545  "
      ]
     },
     "execution_count": 37,
     "metadata": {},
     "output_type": "execute_result"
    }
   ],
   "source": [
    "import pandas as pd\n",
    "url = 'https://ko.wikipedia.org/wiki/%EB%8C%80%ED%95%9C%EB%AF%BC%EA%B5%AD%EC%9D%98_%EC%9D%B8%EA%B5%AC'\n",
    "local = pd.read_html(url, header = 1) # header = 1\n",
    "local = local[11]\n",
    "local.head()"
   ]
  },
  {
   "cell_type": "code",
   "execution_count": 38,
   "id": "6631f61e",
   "metadata": {},
   "outputs": [],
   "source": [
    "del local['주민등록 인구']"
   ]
  },
  {
   "cell_type": "code",
   "execution_count": 45,
   "id": "9b203d69",
   "metadata": {},
   "outputs": [],
   "source": [
    "local.rename(columns={'Unnamed: 0':'행정구역'}, inplace=True)"
   ]
  },
  {
   "cell_type": "code",
   "execution_count": 48,
   "id": "17de2127",
   "metadata": {
    "scrolled": false
   },
   "outputs": [],
   "source": [
    "local.set_index('행정구역', inplace=True)"
   ]
  },
  {
   "cell_type": "code",
   "execution_count": 51,
   "id": "630783fa",
   "metadata": {},
   "outputs": [
    {
     "data": {
      "text/plain": [
       "<AxesSubplot:>"
      ]
     },
     "execution_count": 51,
     "metadata": {},
     "output_type": "execute_result"
    },
    {
     "data": {
      "image/png": "[encoded data removed]",
      "text/plain": [
       "<Figure size 432x288 with 1 Axes>"
      ]
     },
     "metadata": {
      "needs_background": "light"
     },
     "output_type": "display_data"
    }
   ],
   "source": [
    "local.loc['대전광역시'].plot(kind='barh')"
   ]
  },
  {
   "cell_type": "code",
   "execution_count": null,
   "id": "8d796e51",
   "metadata": {},
   "outputs": [],
   "source": []
  }
 ],
 "metadata": {
  "kernelspec": {
   "display_name": "Python 3 (ipykernel)",
   "language": "python",
   "name": "python3"
  },
  "language_info": {
   "codemirror_mode": {
    "name": "ipython",
    "version": 3
   },
   "file_extension": ".py",
   "mimetype": "text/x-python",
   "name": "python",
   "nbconvert_exporter": "python",
   "pygments_lexer": "ipython3",
   "version": "3.9.12"
  }
 },
 "nbformat": 4,
 "nbformat_minor": 5
}
